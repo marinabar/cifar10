{
  "nbformat": 4,
  "nbformat_minor": 0,
  "metadata": {
    "kernelspec": {
      "name": "python3",
      "display_name": "Python 3"
    },
    "language_info": {
      "codemirror_mode": {
        "name": "ipython",
        "version": 3
      },
      "file_extension": ".py",
      "mimetype": "text/x-python",
      "name": "python",
      "nbconvert_exporter": "python",
      "pygments_lexer": "ipython3",
      "version": "3.6.7"
    },
    "colab": {
      "name": "CIFAR10 classifying",
      "provenance": [],
      "collapsed_sections": []
    },
    "accelerator": "GPU",
    "widgets": {
      "application/vnd.jupyter.widget-state+json": {
        "2b0c08d315eb4ec1ae6658c11eb1fa28": {
          "model_module": "@jupyter-widgets/controls",
          "model_name": "HBoxModel",
          "state": {
            "_view_name": "HBoxView",
            "_dom_classes": [],
            "_model_name": "HBoxModel",
            "_view_module": "@jupyter-widgets/controls",
            "_model_module_version": "1.5.0",
            "_view_count": null,
            "_view_module_version": "1.5.0",
            "box_style": "",
            "layout": "IPY_MODEL_25a019c2e977488a944b92dc03944454",
            "_model_module": "@jupyter-widgets/controls",
            "children": [
              "IPY_MODEL_be6e0b36a2334004a06824325ae787ec",
              "IPY_MODEL_99b33c40cc1449ed8d92a318572bc582"
            ]
          }
        },
        "25a019c2e977488a944b92dc03944454": {
          "model_module": "@jupyter-widgets/base",
          "model_name": "LayoutModel",
          "state": {
            "_view_name": "LayoutView",
            "grid_template_rows": null,
            "right": null,
            "justify_content": null,
            "_view_module": "@jupyter-widgets/base",
            "overflow": null,
            "_model_module_version": "1.2.0",
            "_view_count": null,
            "flex_flow": null,
            "width": null,
            "min_width": null,
            "border": null,
            "align_items": null,
            "bottom": null,
            "_model_module": "@jupyter-widgets/base",
            "top": null,
            "grid_column": null,
            "overflow_y": null,
            "overflow_x": null,
            "grid_auto_flow": null,
            "grid_area": null,
            "grid_template_columns": null,
            "flex": null,
            "_model_name": "LayoutModel",
            "justify_items": null,
            "grid_row": null,
            "max_height": null,
            "align_content": null,
            "visibility": null,
            "align_self": null,
            "height": null,
            "min_height": null,
            "padding": null,
            "grid_auto_rows": null,
            "grid_gap": null,
            "max_width": null,
            "order": null,
            "_view_module_version": "1.2.0",
            "grid_template_areas": null,
            "object_position": null,
            "object_fit": null,
            "grid_auto_columns": null,
            "margin": null,
            "display": null,
            "left": null
          }
        },
        "be6e0b36a2334004a06824325ae787ec": {
          "model_module": "@jupyter-widgets/controls",
          "model_name": "IntProgressModel",
          "state": {
            "_view_name": "ProgressView",
            "style": "IPY_MODEL_2af6117374e641e9b2efb19575f9063c",
            "_dom_classes": [],
            "description": "",
            "_model_name": "IntProgressModel",
            "bar_style": "info",
            "max": 1,
            "_view_module": "@jupyter-widgets/controls",
            "_model_module_version": "1.5.0",
            "value": 1,
            "_view_count": null,
            "_view_module_version": "1.5.0",
            "orientation": "horizontal",
            "min": 0,
            "description_tooltip": null,
            "_model_module": "@jupyter-widgets/controls",
            "layout": "IPY_MODEL_0b0d0a13471f4c48b2b85afc21fc0e7e"
          }
        },
        "99b33c40cc1449ed8d92a318572bc582": {
          "model_module": "@jupyter-widgets/controls",
          "model_name": "HTMLModel",
          "state": {
            "_view_name": "HTMLView",
            "style": "IPY_MODEL_c382cdbeb5ec4d1b874c61b659617328",
            "_dom_classes": [],
            "description": "",
            "_model_name": "HTMLModel",
            "placeholder": "​",
            "_view_module": "@jupyter-widgets/controls",
            "_model_module_version": "1.5.0",
            "value": "170500096it [00:30, 33304089.10it/s]",
            "_view_count": null,
            "_view_module_version": "1.5.0",
            "description_tooltip": null,
            "_model_module": "@jupyter-widgets/controls",
            "layout": "IPY_MODEL_d8c5610603574e46a2b848d184b6fa36"
          }
        },
        "2af6117374e641e9b2efb19575f9063c": {
          "model_module": "@jupyter-widgets/controls",
          "model_name": "ProgressStyleModel",
          "state": {
            "_view_name": "StyleView",
            "_model_name": "ProgressStyleModel",
            "description_width": "",
            "_view_module": "@jupyter-widgets/base",
            "_model_module_version": "1.5.0",
            "_view_count": null,
            "_view_module_version": "1.2.0",
            "bar_color": null,
            "_model_module": "@jupyter-widgets/controls"
          }
        },
        "0b0d0a13471f4c48b2b85afc21fc0e7e": {
          "model_module": "@jupyter-widgets/base",
          "model_name": "LayoutModel",
          "state": {
            "_view_name": "LayoutView",
            "grid_template_rows": null,
            "right": null,
            "justify_content": null,
            "_view_module": "@jupyter-widgets/base",
            "overflow": null,
            "_model_module_version": "1.2.0",
            "_view_count": null,
            "flex_flow": null,
            "width": null,
            "min_width": null,
            "border": null,
            "align_items": null,
            "bottom": null,
            "_model_module": "@jupyter-widgets/base",
            "top": null,
            "grid_column": null,
            "overflow_y": null,
            "overflow_x": null,
            "grid_auto_flow": null,
            "grid_area": null,
            "grid_template_columns": null,
            "flex": null,
            "_model_name": "LayoutModel",
            "justify_items": null,
            "grid_row": null,
            "max_height": null,
            "align_content": null,
            "visibility": null,
            "align_self": null,
            "height": null,
            "min_height": null,
            "padding": null,
            "grid_auto_rows": null,
            "grid_gap": null,
            "max_width": null,
            "order": null,
            "_view_module_version": "1.2.0",
            "grid_template_areas": null,
            "object_position": null,
            "object_fit": null,
            "grid_auto_columns": null,
            "margin": null,
            "display": null,
            "left": null
          }
        },
        "c382cdbeb5ec4d1b874c61b659617328": {
          "model_module": "@jupyter-widgets/controls",
          "model_name": "DescriptionStyleModel",
          "state": {
            "_view_name": "StyleView",
            "_model_name": "DescriptionStyleModel",
            "description_width": "",
            "_view_module": "@jupyter-widgets/base",
            "_model_module_version": "1.5.0",
            "_view_count": null,
            "_view_module_version": "1.2.0",
            "_model_module": "@jupyter-widgets/controls"
          }
        },
        "d8c5610603574e46a2b848d184b6fa36": {
          "model_module": "@jupyter-widgets/base",
          "model_name": "LayoutModel",
          "state": {
            "_view_name": "LayoutView",
            "grid_template_rows": null,
            "right": null,
            "justify_content": null,
            "_view_module": "@jupyter-widgets/base",
            "overflow": null,
            "_model_module_version": "1.2.0",
            "_view_count": null,
            "flex_flow": null,
            "width": null,
            "min_width": null,
            "border": null,
            "align_items": null,
            "bottom": null,
            "_model_module": "@jupyter-widgets/base",
            "top": null,
            "grid_column": null,
            "overflow_y": null,
            "overflow_x": null,
            "grid_auto_flow": null,
            "grid_area": null,
            "grid_template_columns": null,
            "flex": null,
            "_model_name": "LayoutModel",
            "justify_items": null,
            "grid_row": null,
            "max_height": null,
            "align_content": null,
            "visibility": null,
            "align_self": null,
            "height": null,
            "min_height": null,
            "padding": null,
            "grid_auto_rows": null,
            "grid_gap": null,
            "max_width": null,
            "order": null,
            "_view_module_version": "1.2.0",
            "grid_template_areas": null,
            "object_position": null,
            "object_fit": null,
            "grid_auto_columns": null,
            "margin": null,
            "display": null,
            "left": null
          }
        }
      }
    }
  },
  "cells": [
    {
      "cell_type": "markdown",
      "metadata": {
        "id": "txtSrhVpF9K_",
        "colab_type": "text"
      },
      "source": [
        "# Classification de l'ensemble de données CIFAR10"
      ]
    },
    {
      "cell_type": "markdown",
      "metadata": {
        "id": "txR-Xd3gR6a2",
        "colab_type": "text"
      },
      "source": [
        "# Préparation des données\n"
      ]
    },
    {
      "cell_type": "markdown",
      "metadata": {
        "id": "kU9oTcfkF51F",
        "colab_type": "text"
      },
      "source": [
        "Cet ensemble de données, ou dataset, contient 60 000 images de 10 catégories"
      ]
    },
    {
      "cell_type": "markdown",
      "metadata": {
        "id": "-vb9b1_cGSYt",
        "colab_type": "text"
      },
      "source": [
        "Les bibliothèques utilisées pour écrire le code"
      ]
    },
    {
      "cell_type": "code",
      "metadata": {
        "id": "8ksdHcPhGsTT",
        "colab_type": "code",
        "colab": {}
      },
      "source": [
        "import torch\n",
        "import torchvision\n",
        "import torchvision.transforms as transforms\n",
        "import torch.optim as optim\n",
        "import matplotlib.pyplot as plt\n",
        "import numpy as np\n",
        "import torch.nn as nn\n",
        "import torch.nn.functional as F"
      ],
      "execution_count": 0,
      "outputs": []
    },
    {
      "cell_type": "markdown",
      "metadata": {
        "id": "y5kNrcQPGt9y",
        "colab_type": "text"
      },
      "source": [
        "Charger les données que l'on va analyser"
      ]
    },
    {
      "cell_type": "code",
      "metadata": {
        "id": "A4CNqTcOeW8D",
        "colab_type": "code",
        "outputId": "01082287-d7de-41d2-930b-7b3fcdec8ad4",
        "colab": {
          "base_uri": "https://localhost:8080/",
          "height": 100,
          "referenced_widgets": [
            "2b0c08d315eb4ec1ae6658c11eb1fa28",
            "25a019c2e977488a944b92dc03944454",
            "be6e0b36a2334004a06824325ae787ec",
            "99b33c40cc1449ed8d92a318572bc582",
            "2af6117374e641e9b2efb19575f9063c",
            "0b0d0a13471f4c48b2b85afc21fc0e7e",
            "c382cdbeb5ec4d1b874c61b659617328",
            "d8c5610603574e46a2b848d184b6fa36"
          ]
        }
      },
      "source": [
        "# Define a transform to normalize the data\n",
        "transform = transforms.Compose([transforms.ToTensor(),\n",
        "                                transforms.Normalize((0.5,), (0.5,))])\n",
        "# Download and load the training data\n",
        "trainset = torchvision.datasets.CIFAR10('~/.pytorch/CIFAR10/', download=True, train=True, transform=transform)\n",
        "trainloader = torch.utils.data.DataLoader(trainset, batch_size=4, shuffle=True, num_workers=2,)\n",
        "\n",
        "# Download and load the test data\n",
        "testset = torchvision.datasets.CIFAR10('~/.pytorch/CIFAR10/', download=True, train=False, transform=transform)\n",
        "testloader = torch.utils.data.DataLoader(testset, batch_size=4, shuffle=True, num_workers=2)"
      ],
      "execution_count": 0,
      "outputs": [
        {
          "output_type": "stream",
          "text": [
            "Downloading https://www.cs.toronto.edu/~kriz/cifar-10-python.tar.gz to /root/.pytorch/CIFAR10/cifar-10-python.tar.gz\n"
          ],
          "name": "stdout"
        },
        {
          "output_type": "display_data",
          "data": {
            "application/vnd.jupyter.widget-view+json": {
              "model_id": "2b0c08d315eb4ec1ae6658c11eb1fa28",
              "version_minor": 0,
              "version_major": 2
            },
            "text/plain": [
              "HBox(children=(IntProgress(value=1, bar_style='info', max=1), HTML(value='')))"
            ]
          },
          "metadata": {
            "tags": []
          }
        },
        {
          "output_type": "stream",
          "text": [
            "Extracting /root/.pytorch/CIFAR10/cifar-10-python.tar.gz to /root/.pytorch/CIFAR10/\n",
            "Files already downloaded and verified\n"
          ],
          "name": "stdout"
        }
      ]
    },
    {
      "cell_type": "code",
      "metadata": {
        "id": "v4qybN3BVGzT",
        "colab_type": "code",
        "colab": {}
      },
      "source": [
        "classes = ('avion', 'voiture', 'oiseau', 'chat',\n",
        "           'renne', 'chien', 'grenouille', 'cheval', 'bateau', 'camion')"
      ],
      "execution_count": 0,
      "outputs": []
    },
    {
      "cell_type": "markdown",
      "metadata": {
        "id": "kUSWelWueW8K",
        "colab_type": "text"
      },
      "source": [
        "Un example d'une image contenue dans le dataset"
      ]
    },
    {
      "cell_type": "code",
      "metadata": {
        "id": "LXXfu_u4eW8N",
        "colab_type": "code",
        "outputId": "22eb4474-a12e-477b-86a9-950900a9b14c",
        "colab": {
          "base_uri": "https://localhost:8080/",
          "height": 155
        }
      },
      "source": [
        "import matplotlib.pyplot as plt\n",
        "import numpy as np\n",
        "\n",
        "# functions to show an image\n",
        "\n",
        "\n",
        "def imshow(img):\n",
        "    img = img / 2 + 0.5     # unnormalize\n",
        "    npimg = img.numpy()\n",
        "    plt.imshow(np.transpose(npimg, (1, 2, 0)))\n",
        "\n",
        "\n",
        "# get some random training images\n",
        "dataiter = iter(trainloader)\n",
        "images, labels = dataiter.next()\n",
        "\n",
        "# show images\n",
        "imshow(torchvision.utils.make_grid(images))\n",
        "# print labels\n",
        "print(' '.join('%5s' % classes[labels[j]] for j in range(4)))\n"
      ],
      "execution_count": 0,
      "outputs": [
        {
          "output_type": "stream",
          "text": [
            "chien camion grenouille grenouille\n"
          ],
          "name": "stdout"
        },
        {
          "output_type": "display_data",
          "data": {
            "image/png": "[encoded data removed]",
            "text/plain": [
              "<Figure size 432x288 with 1 Axes>"
            ]
          },
          "metadata": {
            "tags": []
          }
        }
      ]
    },
    {
      "cell_type": "markdown",
      "metadata": {
        "id": "O8as9pTTRX2k",
        "colab_type": "text"
      },
      "source": [
        "On définit la structure du réseau de neurones, et tous les paramètres de ses couches"
      ]
    },
    {
      "cell_type": "code",
      "metadata": {
        "id": "UjYp25BoeW8V",
        "colab_type": "code",
        "colab": {}
      },
      "source": [
        "class Net(nn.Module):\n",
        "    def __init__(self):\n",
        "        super(Net, self).__init__()\n",
        "        self.conv1 = nn.Conv2d(3, 6, 5)\n",
        "        self.pool = nn.MaxPool2d(2, 2)\n",
        "        self.conv2 = nn.Conv2d(6, 16, 5)\n",
        "        self.fc1 = nn.Linear(16 * 5 * 5, 120)\n",
        "        self.fc2 = nn.Linear(120, 84)\n",
        "        self.fc3 = nn.Linear(84, 10)\n",
        "\n",
        "    def forward(self, x):\n",
        "        x = self.pool(F.relu(self.conv1(x)))\n",
        "        x = self.pool(F.relu(self.conv2(x)))\n",
        "        x = x.view(-1, 16 * 5 * 5)\n",
        "        x = F.relu(self.fc1(x))\n",
        "        x = F.relu(self.fc2(x))\n",
        "        x = self.fc3(x)\n",
        "        return x\n",
        "\n",
        "net = Net()"
      ],
      "execution_count": 0,
      "outputs": []
    },
    {
      "cell_type": "markdown",
      "metadata": {
        "id": "4dPBeckXR4PU",
        "colab_type": "text"
      },
      "source": [
        ""
      ]
    },
    {
      "cell_type": "markdown",
      "metadata": {
        "id": "7KHrSw9WeW8Z",
        "colab_type": "text"
      },
      "source": [
        "# Entraînement du réseau pour qu'il analyse les images et prédise la catégories auquelles elles appartiennent"
      ]
    },
    {
      "cell_type": "markdown",
      "metadata": {
        "id": "sFrRgrTQRzlJ",
        "colab_type": "text"
      },
      "source": [
        "On choisit les paramètres d'optimisation du modèle"
      ]
    },
    {
      "cell_type": "code",
      "metadata": {
        "id": "zWE69CXceW8b",
        "colab_type": "code",
        "colab": {}
      },
      "source": [
        "criterion = nn.CrossEntropyLoss()\n",
        "optimizer = optim.SGD(net.parameters(), lr=0.001, momentum=0.9)"
      ],
      "execution_count": 0,
      "outputs": []
    },
    {
      "cell_type": "markdown",
      "metadata": {
        "id": "n6zfE9vSR6it",
        "colab_type": "text"
      },
      "source": [
        "On entraîne l'algorithme à identifier la classe des images"
      ]
    },
    {
      "cell_type": "code",
      "metadata": {
        "id": "XPVhgZw4eW8h",
        "colab_type": "code",
        "outputId": "771bfdab-dac3-47fe-a969-78c33be74047",
        "colab": {
          "base_uri": "https://localhost:8080/",
          "height": 1000
        }
      },
      "source": [
        "for epoch in range(15):  # loop over the dataset multiple times\n",
        "\n",
        "    running_loss = 0.0\n",
        "    for i, data in enumerate(trainloader, 0):\n",
        "        # get the inputs; data is a list of [inputs, labels]\n",
        "        inputs, labels = data\n",
        "\n",
        "        # zero the parameter gradients\n",
        "        optimizer.zero_grad()\n",
        "\n",
        "        # forward + backward + optimize\n",
        "        outputs = net(inputs)\n",
        "        loss = criterion(outputs, labels)\n",
        "        loss.backward()\n",
        "        optimizer.step()\n",
        "\n",
        "        # print statistics\n",
        "        running_loss += loss.item()\n",
        "        if i % 2000 == 1999:    # print every 2000 mini-batches\n",
        "            print('[%d, %5d] perte: %.3f' %\n",
        "                  (epoch + 1, i + 1, running_loss / 2000))\n",
        "            running_loss = 0.0\n",
        "\n",
        "print('Apprentissage terminé')"
      ],
      "execution_count": 0,
      "outputs": [
        {
          "output_type": "stream",
          "text": [
            "[1,  2000] perte: 2.207\n",
            "[1,  4000] perte: 1.884\n",
            "[1,  6000] perte: 1.695\n",
            "[1,  8000] perte: 1.603\n",
            "[1, 10000] perte: 1.583\n",
            "[1, 12000] perte: 1.497\n",
            "[2,  2000] perte: 1.417\n",
            "[2,  4000] perte: 1.421\n",
            "[2,  6000] perte: 1.366\n",
            "[2,  8000] perte: 1.352\n",
            "[2, 10000] perte: 1.336\n",
            "[2, 12000] perte: 1.297\n",
            "[3,  2000] perte: 1.233\n",
            "[3,  4000] perte: 1.217\n",
            "[3,  6000] perte: 1.219\n",
            "[3,  8000] perte: 1.224\n",
            "[3, 10000] perte: 1.195\n",
            "[3, 12000] perte: 1.165\n",
            "[4,  2000] perte: 1.093\n",
            "[4,  4000] perte: 1.112\n",
            "[4,  6000] perte: 1.112\n",
            "[4,  8000] perte: 1.124\n",
            "[4, 10000] perte: 1.100\n",
            "[4, 12000] perte: 1.105\n",
            "[5,  2000] perte: 1.008\n",
            "[5,  4000] perte: 1.026\n",
            "[5,  6000] perte: 1.039\n",
            "[5,  8000] perte: 1.028\n",
            "[5, 10000] perte: 1.043\n",
            "[5, 12000] perte: 1.028\n",
            "[6,  2000] perte: 0.946\n",
            "[6,  4000] perte: 0.977\n",
            "[6,  6000] perte: 0.946\n",
            "[6,  8000] perte: 0.967\n",
            "[6, 10000] perte: 0.975\n",
            "[6, 12000] perte: 0.998\n",
            "[7,  2000] perte: 0.882\n",
            "[7,  4000] perte: 0.926\n",
            "[7,  6000] perte: 0.914\n",
            "[7,  8000] perte: 0.910\n",
            "[7, 10000] perte: 0.926\n",
            "[7, 12000] perte: 0.937\n",
            "[8,  2000] perte: 0.830\n",
            "[8,  4000] perte: 0.875\n",
            "[8,  6000] perte: 0.868\n",
            "[8,  8000] perte: 0.897\n",
            "[8, 10000] perte: 0.897\n",
            "[8, 12000] perte: 0.905\n",
            "[9,  2000] perte: 0.809\n",
            "[9,  4000] perte: 0.825\n",
            "[9,  6000] perte: 0.848\n",
            "[9,  8000] perte: 0.851\n",
            "[9, 10000] perte: 0.842\n",
            "[9, 12000] perte: 0.881\n",
            "[10,  2000] perte: 0.775\n",
            "[10,  4000] perte: 0.803\n",
            "[10,  6000] perte: 0.816\n",
            "[10,  8000] perte: 0.830\n",
            "[10, 10000] perte: 0.861\n",
            "[10, 12000] perte: 0.827\n",
            "[11,  2000] perte: 0.732\n",
            "[11,  4000] perte: 0.783\n",
            "[11,  6000] perte: 0.794\n",
            "[11,  8000] perte: 0.807\n",
            "[11, 10000] perte: 0.824\n",
            "[11, 12000] perte: 0.801\n",
            "[12,  2000] perte: 0.721\n",
            "[12,  4000] perte: 0.731\n",
            "[12,  6000] perte: 0.771\n",
            "[12,  8000] perte: 0.785\n",
            "[12, 10000] perte: 0.781\n",
            "[12, 12000] perte: 0.786\n",
            "[13,  2000] perte: 0.696\n",
            "[13,  4000] perte: 0.718\n",
            "[13,  6000] perte: 0.749\n",
            "[13,  8000] perte: 0.758\n",
            "[13, 10000] perte: 0.767\n",
            "[13, 12000] perte: 0.763\n",
            "[14,  2000] perte: 0.653\n",
            "[14,  4000] perte: 0.728\n",
            "[14,  6000] perte: 0.722\n",
            "[14,  8000] perte: 0.742\n",
            "[14, 10000] perte: 0.753\n",
            "[14, 12000] perte: 0.744\n",
            "[15,  2000] perte: 0.657\n",
            "[15,  4000] perte: 0.701\n",
            "[15,  6000] perte: 0.692\n",
            "[15,  8000] perte: 0.717\n",
            "[15, 10000] perte: 0.729\n",
            "[15, 12000] perte: 0.768\n",
            "Apprentissage terminé\n"
          ],
          "name": "stdout"
        }
      ]
    },
    {
      "cell_type": "markdown",
      "metadata": {
        "id": "VxHU8ArISWHc",
        "colab_type": "text"
      },
      "source": [
        "A chaque \"tour\" d'apprentissage, on peut voir que la perte diminue, donc que notre modèle devient de plus en plus performant"
      ]
    },
    {
      "cell_type": "markdown",
      "metadata": {
        "id": "xERR37UrTG7n",
        "colab_type": "text"
      },
      "source": [
        "On affiche quelques images et leur vraie catégorie en comparaison avec leur catégorie prédite\n",
        "\n",
        "\n",
        "(note pour présentation : trouver une image bof facile à analyser pour une personne mais que l'algorithme a bien analysé et dire :\"vous arriver à déterminer ce que c'est en 1,42s? Non? et bien cet algorithme l'a fait)"
      ]
    },
    {
      "cell_type": "markdown",
      "metadata": {
        "id": "Lm3bPPRVcVkq",
        "colab_type": "text"
      },
      "source": [
        "# Test du réseau sur des images inconnues et observation et du résultat"
      ]
    },
    {
      "cell_type": "code",
      "metadata": {
        "id": "AL_Tvv2Edt6h",
        "colab_type": "code",
        "outputId": "0b66d13c-84f0-4cd7-d8bc-c014d5d86241",
        "colab": {
          "base_uri": "https://localhost:8080/",
          "height": 172
        }
      },
      "source": [
        "dataiter = iter(testloader)\n",
        "images, labels = dataiter.next()\n",
        "\n",
        "# print images\n",
        "imshow(torchvision.utils.make_grid(images))\n",
        "print('Catégories correctes : ', ' '.join('%5s' % classes[labels[j]] for j in range(4)))\n",
        "\n",
        "outputs = net(images)\n",
        "\n",
        "_, predicted = torch.max(outputs, 1)\n",
        "\n",
        "print('Catégories prédites : ', ' '.join('%5s' % classes[predicted[j]]\n",
        "                              for j in range(4)))"
      ],
      "execution_count": 0,
      "outputs": [
        {
          "output_type": "stream",
          "text": [
            "Catégories correctes :  renne voiture chien chien\n",
            "Catégories prédites :  renne bateau chien chien\n"
          ],
          "name": "stdout"
        },
        {
          "output_type": "display_data",
          "data": {
            "image/png": "[encoded data removed]",
            "text/plain": [
              "<Figure size 432x288 with 1 Axes>"
            ]
          },
          "metadata": {
            "tags": []
          }
        }
      ]
    },
    {
      "cell_type": "markdown",
      "metadata": {
        "id": "-DvHaXyIUJ0O",
        "colab_type": "text"
      },
      "source": [
        "Et voici ce que l'algorithme a prédit"
      ]
    },
    {
      "cell_type": "markdown",
      "metadata": {
        "id": "7lKVxP7JYQRu",
        "colab_type": "text"
      },
      "source": [
        "On regarde sur l'ensemble des prédictions à quelles point celles-ci sont correctes"
      ]
    },
    {
      "cell_type": "code",
      "metadata": {
        "id": "FzV29IWIeDME",
        "colab_type": "code",
        "outputId": "0e029726-7e00-4a03-ec76-a982b4ea4971",
        "colab": {
          "base_uri": "https://localhost:8080/",
          "height": 34
        }
      },
      "source": [
        "correct = 0\n",
        "total = 0\n",
        "with torch.no_grad():\n",
        "    for data in testloader:\n",
        "        images, labels = data\n",
        "        outputs = net(images)\n",
        "        _, predicted = torch.max(outputs.data, 1)\n",
        "        total += labels.size(0)\n",
        "        correct += (predicted == labels).sum().item()\n",
        "\n",
        "print('Précision du réseau sur les 10 000 images de test: %d %%' % (\n",
        "    100 * correct / total))"
      ],
      "execution_count": 0,
      "outputs": [
        {
          "output_type": "stream",
          "text": [
            "Précision du réseau sur les 10 000 images de test: 62 %\n"
          ],
          "name": "stdout"
        }
      ]
    },
    {
      "cell_type": "markdown",
      "metadata": {
        "id": "Xmg6Rr36zBbW",
        "colab_type": "text"
      },
      "source": [
        "Et on voit quelle catégorie est la mieux identifiée par l'algorithme, donc quelle catégorie a la meilleure précision"
      ]
    },
    {
      "cell_type": "code",
      "metadata": {
        "id": "ovTF6Y28zApz",
        "colab_type": "code",
        "outputId": "f2c71b09-953c-49ed-c9ca-c03d34fb27e8",
        "colab": {
          "base_uri": "https://localhost:8080/",
          "height": 187
        }
      },
      "source": [
        "class_correct = list(0. for i in range(10))\n",
        "class_total = list(0. for i in range(10))\n",
        "with torch.no_grad():\n",
        "    for data in testloader:\n",
        "        images, labels = data\n",
        "        outputs = net(images)\n",
        "        _, predicted = torch.max(outputs, 1)\n",
        "        c = (predicted == labels).squeeze()\n",
        "        for i in range(4):\n",
        "            label = labels[i]\n",
        "            class_correct[label] += c[i].item()\n",
        "            class_total[label] += 1\n",
        "\n",
        "\n",
        "for i in range(10):\n",
        "    print('Précision de la classe : %5s => %2d %%' % (\n",
        "        classes[i], 100 * class_correct[i] / class_total[i]))"
      ],
      "execution_count": 0,
      "outputs": [
        {
          "output_type": "stream",
          "text": [
            "Précision de la classe : avion => 62 %\n",
            "Précision de la classe : voiture => 72 %\n",
            "Précision de la classe : oiseau => 49 %\n",
            "Précision de la classe :  chat => 45 %\n",
            "Précision de la classe : renne => 63 %\n",
            "Précision de la classe : chien => 41 %\n",
            "Précision de la classe : grenouille => 82 %\n",
            "Précision de la classe : cheval => 60 %\n",
            "Précision de la classe : bateau => 83 %\n",
            "Précision de la classe : camion => 62 %\n"
          ],
          "name": "stdout"
        }
      ]
    },
    {
      "cell_type": "markdown",
      "metadata": {
        "id": "QPzGNY7pzyMP",
        "colab_type": "text"
      },
      "source": [
        "Avec un learning rate de 0.01 et SDG optimizer : 56% accuracy\n",
        "\n",
        "avec SGD lr=0.001, momentum=0.8 : 41% accuracy\n",
        "\n",
        "avec SGD lr=0.001, momentum=0.96 : 41% accuracy"
      ]
    },
    {
      "cell_type": "markdown",
      "metadata": {
        "id": "7L3ECjPoWLcd",
        "colab_type": "text"
      },
      "source": [
        "avec SDG et lr=0.001, momentum=0.9 : 38% accuracy"
      ]
    }
  ]
}